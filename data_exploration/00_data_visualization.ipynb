{
 "cells": [
  {
   "cell_type": "markdown",
   "id": "a9905413",
   "metadata": {},
   "source": []
  },
  {
   "cell_type": "markdown",
   "id": "eb951486",
   "metadata": {},
   "source": []
  },
  {
   "cell_type": "code",
   "execution_count": null,
   "id": "fb0987b9",
   "metadata": {},
   "outputs": [
    {
     "ename": "",
     "evalue": "",
     "output_type": "error",
     "traceback": [
      "\u001b[1;31mFailed to start the Kernel. \n",
      "\u001b[1;31mUnable to start Kernel 'maais (Python 3.13.7)' due to a timeout waiting for the ports to get used. \n",
      "\u001b[1;31mView Jupyter <a href='command:jupyter.viewOutput'>log</a> for further details."
     ]
    }
   ],
   "source": [
    "pwd"
   ]
  },
  {
   "cell_type": "code",
   "execution_count": null,
   "id": "ced3a469",
   "metadata": {},
   "outputs": [
    {
     "ename": "",
     "evalue": "",
     "output_type": "error",
     "traceback": [
      "\u001b[1;31mFailed to start the Kernel. \n",
      "\u001b[1;31mUnable to start Kernel 'maais (Python 3.13.7)' due to a timeout waiting for the ports to get used. \n",
      "\u001b[1;31mView Jupyter <a href='command:jupyter.viewOutput'>log</a> for further details."
     ]
    }
   ],
   "source": [
    "import numpy as np\n",
    "import pandas as pd\n",
    "from glob import glob"
   ]
  },
  {
   "cell_type": "code",
   "execution_count": null,
   "id": "5b8ee647",
   "metadata": {},
   "outputs": [
    {
     "ename": "",
     "evalue": "",
     "output_type": "error",
     "traceback": [
      "\u001b[1;31mFailed to start the Kernel. \n",
      "\u001b[1;31mUnable to start Kernel 'maais (Python 3.13.7)' due to a timeout waiting for the ports to get used. \n",
      "\u001b[1;31mView Jupyter <a href='command:jupyter.viewOutput'>log</a> for further details."
     ]
    }
   ],
   "source": [
    "AIS_20_01_01_filepath = (\n",
    "    r\"D:\\Maritime_Vessel_monitoring\\csv_extracted_data\\AIS_2020_01_01\",\n",
    ")\n",
    "AIS_20_01_02_filepath = (\n",
    "    r\"D:\\Maritime_Vessel_monitoring\\csv_extracted_data\\AIS_2020_01_02\",\n",
    ")\n",
    "AIS_20_01_03_filepath = (\n",
    "    r\"D:\\Maritime_Vessel_monitoring\\csv_extracted_data\\AIS_2020_01_03\",\n",
    ")\n",
    "AIS_20_01_04_filepath = (\n",
    "    r\"D:\\Maritime_Vessel_monitoring\\csv_extracted_data\\AIS_2020_01_04\",\n",
    ")\n",
    "AIS_20_01_05_filepath = (\n",
    "    r\"D:\\Maritime_Vessel_monitoring\\csv_extracted_data\\AIS_2020_01_05\",\n",
    ")\n",
    "AIS_20_01_06_fiilepath = (\n",
    "    r\"D:\\Maritime_Vessel_monitoring\\csv_extracted_data\\AIS_2020_01_06\",\n",
    ")\n",
    "AIS_20_01_07_fiilepath = (\n",
    "    r\"D:\\Maritime_Vessel_monitoring\\csv_extracted_data\\AIS_2020_01_07\",\n",
    ")\n",
    "AIS_20_01_08_fiilepath = (\n",
    "    r\"D:\\Maritime_Vessel_monitoring\\csv_extracted_data\\AIS_2020_01_08\",\n",
    ")\n",
    "AIS_20_01_09_fiilepath = (\n",
    "    r\"D:\\Maritime_Vessel_monitoring\\csv_extracted_data\\AIS_2020_01_09\",\n",
    ")\n",
    "AIS_20_01_10_fiilepath = (\n",
    "    r\"D:\\Maritime_Vessel_monitoring\\csv_extracted_data\\AIS_2020_01_10\"\n",
    ")"
   ]
  },
  {
   "cell_type": "code",
   "execution_count": null,
   "id": "ec5d4ecd",
   "metadata": {},
   "outputs": [],
   "source": [
    "AIS_20_01_01 = pd.read_csv(AIS_20_01_01_filepath)\n",
    "print(f\"The shape of dataframe {AIS_20_01_01.shape()}\")\n",
    "print()"
   ]
  }
 ],
 "metadata": {
  "kernelspec": {
   "display_name": "maais",
   "language": "python",
   "name": "python3"
  },
  "language_info": {
   "codemirror_mode": {
    "name": "ipython",
    "version": 3
   },
   "file_extension": ".py",
   "mimetype": "text/x-python",
   "name": "python",
   "nbconvert_exporter": "python",
   "pygments_lexer": "ipython3",
   "version": "3.13.7"
  }
 },
 "nbformat": 4,
 "nbformat_minor": 5
}
